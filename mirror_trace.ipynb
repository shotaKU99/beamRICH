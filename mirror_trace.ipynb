{
 "cells": [
  {
   "cell_type": "code",
   "execution_count": 78,
   "metadata": {},
   "outputs": [],
   "source": [
    "import numpy as np\n",
    "import pandas as pd\n",
    "import plotly.express as px\n",
    "import plotly.graph_objects as go\n",
    "from plotly.subplots import make_subplots \n",
    "from scipy.optimize import minimize"
   ]
  },
  {
   "cell_type": "code",
   "execution_count": 2,
   "metadata": {},
   "outputs": [],
   "source": [
    "import multiprocessing as mp\n",
    "from itertools import product"
   ]
  },
  {
   "attachments": {},
   "cell_type": "markdown",
   "metadata": {},
   "source": [
    "# Simplest Situation"
   ]
  },
  {
   "cell_type": "code",
   "execution_count": 3,
   "metadata": {},
   "outputs": [],
   "source": [
    "def reflect_line(theta_c, a, R): # theta_c : cherenkov angle, a : emission point, R : mirror radius\n",
    "    x0 = (a*np.tan(theta_c)**2 + np.sqrt(R**2 + (R**2-a**2)*np.tan(theta_c)**2))/(1+np.tan(theta_c)**2)\n",
    "    y0 = np.tan(theta_c)*(-a+np.sqrt(R**2 + (R**2-a**2)*np.tan(theta_c)**2))/(1+np.tan(theta_c)**2)\n",
    "    tanTheta = y0/x0\n",
    "    sin2Theta = 2*tanTheta/(1+tanTheta**2)\n",
    "    cos2Theta = (1-tanTheta**2)/(1+tanTheta**2)\n",
    "    A = (sin2Theta-np.tan(theta_c)*cos2Theta)/(cos2Theta+np.tan(theta_c)*sin2Theta)\n",
    "    B = a*np.tan(theta_c)/(cos2Theta+np.tan(theta_c)*sin2Theta)\n",
    "    return np.array([A, B, tanTheta])"
   ]
  },
  {
   "cell_type": "code",
   "execution_count": 4,
   "metadata": {},
   "outputs": [
    {
     "name": "stderr",
     "output_type": "stream",
     "text": [
      "C:\\Users\\shota\\AppData\\Local\\Temp\\ipykernel_9336\\2806016024.py:11: RuntimeWarning: invalid value encountered in arcsin\n",
      "  line1 = reflect_line(np.arcsin(theta), a, R) # back Aerogel\n",
      "C:\\Users\\shota\\AppData\\Local\\Temp\\ipykernel_9336\\2806016024.py:12: RuntimeWarning: invalid value encountered in arcsin\n",
      "  line2 = reflect_line(np.arcsin(theta), b, R) # front Aerogel\n"
     ]
    }
   ],
   "source": [
    "R = 100.0 # Mirror Radius [cm]\n",
    "a = 50 #cm\n",
    "#theta_c = np.arange(-np.pi/2.0,np.pi/2.0, 0.1)\n",
    "theta_c = np.arange(-1,1, 0.05)\n",
    "n_Aero = 1.021\n",
    "n_Air = 1.000273\n",
    "Thick_Aero = 10 #cm\n",
    "theta = np.arcsin(n_Aero*np.sin(theta_c)/n_Air)\n",
    "b = a - Thick_Aero*np.tan(theta_c)/np.tan(theta)\n",
    "\n",
    "line1 = reflect_line(np.arcsin(theta), a, R) # back Aerogel \n",
    "line2 = reflect_line(np.arcsin(theta), b, R) # front Aerogel\n",
    "\n",
    "X = (-line1[1]+line2[1])/(line1[0]-line2[0])\n",
    "Y = (line1[0]*line2[1]-line1[1]*line2[0])/(line1[0]-line2[0])"
   ]
  },
  {
   "cell_type": "code",
   "execution_count": 5,
   "metadata": {},
   "outputs": [],
   "source": [
    "TITLE_FONTSIZE = 35\n",
    "AXISTITLE_FONTSIZE = 22\n",
    "LEGEND_FONTSIZE = 22\n",
    "TICK_FONTSIZE = 15\n",
    "MARKERSIZE = 20\n",
    "\n",
    "layout = go.Layout(\n",
    "    width=720,\n",
    "    height=540,\n",
    "    template=\"simple_white\",\n",
    "    title_font=dict(size=TITLE_FONTSIZE, family=\"Times New Roman\"),\n",
    "    title=r\"Focal Plane R/2=\" + str(\"{:.1f}\".format(R/2)) + \"cm\",\n",
    "    xaxis=dict(\n",
    "        showgrid=True,\n",
    "        mirror=True,\n",
    "        range=(0., 150),\n",
    "        title=r\"<i>x</i> [cm]\",\n",
    "        title_font=dict(size=AXISTITLE_FONTSIZE, family=\"Times New Roman\"),\n",
    "        tickfont=dict(size=TICK_FONTSIZE),\n",
    "        #dtick=10,\n",
    "    ),\n",
    "    yaxis=dict(\n",
    "        showgrid=True,\n",
    "        mirror=True,\n",
    "        range=(-80, 80),\n",
    "        title=r\"<i>y</i> [cm]\",\n",
    "        title_font=dict(size=AXISTITLE_FONTSIZE, family=\"Times New Roman\"),\n",
    "        tickfont=dict(size=TICK_FONTSIZE),\n",
    "        dtick=20,\n",
    "    ),\n",
    "    legend_font=dict(size=LEGEND_FONTSIZE, family=\"Times New Roman\"),\n",
    ")"
   ]
  },
  {
   "cell_type": "code",
   "execution_count": 44,
   "metadata": {},
   "outputs": [
    {
     "data": {
      "application/vnd.plotly.v1+json": {
       "config": {
        "plotlyServerURL": "https://plot.ly"
       },
       "data": [
        {
         "line": {
          "color": "red",
          "width": 2
         },
         "mode": "lines",
         "name": "focal plane",
         "showlegend": false,
         "type": "scatter",
         "x": [
          null,
          21.133190156618813,
          29.953219775369547,
          34.7421898645611,
          38.019399840022196,
          40.45445650837025,
          42.344541328343524,
          43.85148914358128,
          45.07421957807798,
          46.07788167086542,
          46.907664558522434,
          47.59610445729185,
          48.167271139229875,
          48.639314794264955,
          49.026088498826304,
          49.338218905904434,
          49.583831235515824,
          49.769048057310485,
          49.89833369333029,
          49.97472844558698,
          50.000000000000014,
          49.974728445587004,
          49.898333693330294,
          49.76904805731057,
          49.58383123551571,
          49.33821890590452,
          49.026088498826105,
          48.63931479426494,
          48.16727113923005,
          47.59610445729175,
          46.90766455852245,
          46.07788167086519,
          45.07421957807813,
          43.8514891435812,
          42.34454132834332,
          40.45445650837039,
          38.019399840022146,
          34.74218986456103,
          29.953219775369416,
          21.13319015661831
         ],
         "y": [
          null,
          -59.62896229524759,
          -54.24512408589451,
          -49.81532855613382,
          -45.85349052977666,
          -42.2005045042197,
          -38.773407388899436,
          -35.520482037150856,
          -32.406164243698235,
          -29.404402295691273,
          -26.49523471664627,
          -23.662829988703404,
          -20.89427459884087,
          -18.178778547001503,
          -15.507129266196308,
          -12.871300825635462,
          -10.264163888398508,
          -7.679262799709753,
          -5.1106380772148485,
          -2.5526795965087157,
          4.532913347225346e-14,
          2.552679596508807,
          5.110638077214938,
          7.679262799709846,
          10.264163888398603,
          12.871300825635554,
          15.50712926619639,
          18.1787785470016,
          20.89427459884098,
          23.6628299887035,
          26.495234716646387,
          29.404402295691348,
          32.406164243698356,
          35.52048203715097,
          38.773407388899514,
          42.20050450421986,
          45.853490529776835,
          49.81532855613398,
          54.245124085894716,
          59.628962295247796
         ]
        }
       ],
       "layout": {
        "height": 540,
        "legend": {
         "font": {
          "family": "Times New Roman",
          "size": 22
         }
        },
        "template": {
         "data": {
          "bar": [
           {
            "error_x": {
             "color": "rgb(36,36,36)"
            },
            "error_y": {
             "color": "rgb(36,36,36)"
            },
            "marker": {
             "line": {
              "color": "white",
              "width": 0.5
             },
             "pattern": {
              "fillmode": "overlay",
              "size": 10,
              "solidity": 0.2
             }
            },
            "type": "bar"
           }
          ],
          "barpolar": [
           {
            "marker": {
             "line": {
              "color": "white",
              "width": 0.5
             },
             "pattern": {
              "fillmode": "overlay",
              "size": 10,
              "solidity": 0.2
             }
            },
            "type": "barpolar"
           }
          ],
          "carpet": [
           {
            "aaxis": {
             "endlinecolor": "rgb(36,36,36)",
             "gridcolor": "white",
             "linecolor": "white",
             "minorgridcolor": "white",
             "startlinecolor": "rgb(36,36,36)"
            },
            "baxis": {
             "endlinecolor": "rgb(36,36,36)",
             "gridcolor": "white",
             "linecolor": "white",
             "minorgridcolor": "white",
             "startlinecolor": "rgb(36,36,36)"
            },
            "type": "carpet"
           }
          ],
          "choropleth": [
           {
            "colorbar": {
             "outlinewidth": 1,
             "tickcolor": "rgb(36,36,36)",
             "ticks": "outside"
            },
            "type": "choropleth"
           }
          ],
          "contour": [
           {
            "colorbar": {
             "outlinewidth": 1,
             "tickcolor": "rgb(36,36,36)",
             "ticks": "outside"
            },
            "colorscale": [
             [
              0,
              "#440154"
             ],
             [
              0.1111111111111111,
              "#482878"
             ],
             [
              0.2222222222222222,
              "#3e4989"
             ],
             [
              0.3333333333333333,
              "#31688e"
             ],
             [
              0.4444444444444444,
              "#26828e"
             ],
             [
              0.5555555555555556,
              "#1f9e89"
             ],
             [
              0.6666666666666666,
              "#35b779"
             ],
             [
              0.7777777777777778,
              "#6ece58"
             ],
             [
              0.8888888888888888,
              "#b5de2b"
             ],
             [
              1,
              "#fde725"
             ]
            ],
            "type": "contour"
           }
          ],
          "contourcarpet": [
           {
            "colorbar": {
             "outlinewidth": 1,
             "tickcolor": "rgb(36,36,36)",
             "ticks": "outside"
            },
            "type": "contourcarpet"
           }
          ],
          "heatmap": [
           {
            "colorbar": {
             "outlinewidth": 1,
             "tickcolor": "rgb(36,36,36)",
             "ticks": "outside"
            },
            "colorscale": [
             [
              0,
              "#440154"
             ],
             [
              0.1111111111111111,
              "#482878"
             ],
             [
              0.2222222222222222,
              "#3e4989"
             ],
             [
              0.3333333333333333,
              "#31688e"
             ],
             [
              0.4444444444444444,
              "#26828e"
             ],
             [
              0.5555555555555556,
              "#1f9e89"
             ],
             [
              0.6666666666666666,
              "#35b779"
             ],
             [
              0.7777777777777778,
              "#6ece58"
             ],
             [
              0.8888888888888888,
              "#b5de2b"
             ],
             [
              1,
              "#fde725"
             ]
            ],
            "type": "heatmap"
           }
          ],
          "heatmapgl": [
           {
            "colorbar": {
             "outlinewidth": 1,
             "tickcolor": "rgb(36,36,36)",
             "ticks": "outside"
            },
            "colorscale": [
             [
              0,
              "#440154"
             ],
             [
              0.1111111111111111,
              "#482878"
             ],
             [
              0.2222222222222222,
              "#3e4989"
             ],
             [
              0.3333333333333333,
              "#31688e"
             ],
             [
              0.4444444444444444,
              "#26828e"
             ],
             [
              0.5555555555555556,
              "#1f9e89"
             ],
             [
              0.6666666666666666,
              "#35b779"
             ],
             [
              0.7777777777777778,
              "#6ece58"
             ],
             [
              0.8888888888888888,
              "#b5de2b"
             ],
             [
              1,
              "#fde725"
             ]
            ],
            "type": "heatmapgl"
           }
          ],
          "histogram": [
           {
            "marker": {
             "line": {
              "color": "white",
              "width": 0.6
             }
            },
            "type": "histogram"
           }
          ],
          "histogram2d": [
           {
            "colorbar": {
             "outlinewidth": 1,
             "tickcolor": "rgb(36,36,36)",
             "ticks": "outside"
            },
            "colorscale": [
             [
              0,
              "#440154"
             ],
             [
              0.1111111111111111,
              "#482878"
             ],
             [
              0.2222222222222222,
              "#3e4989"
             ],
             [
              0.3333333333333333,
              "#31688e"
             ],
             [
              0.4444444444444444,
              "#26828e"
             ],
             [
              0.5555555555555556,
              "#1f9e89"
             ],
             [
              0.6666666666666666,
              "#35b779"
             ],
             [
              0.7777777777777778,
              "#6ece58"
             ],
             [
              0.8888888888888888,
              "#b5de2b"
             ],
             [
              1,
              "#fde725"
             ]
            ],
            "type": "histogram2d"
           }
          ],
          "histogram2dcontour": [
           {
            "colorbar": {
             "outlinewidth": 1,
             "tickcolor": "rgb(36,36,36)",
             "ticks": "outside"
            },
            "colorscale": [
             [
              0,
              "#440154"
             ],
             [
              0.1111111111111111,
              "#482878"
             ],
             [
              0.2222222222222222,
              "#3e4989"
             ],
             [
              0.3333333333333333,
              "#31688e"
             ],
             [
              0.4444444444444444,
              "#26828e"
             ],
             [
              0.5555555555555556,
              "#1f9e89"
             ],
             [
              0.6666666666666666,
              "#35b779"
             ],
             [
              0.7777777777777778,
              "#6ece58"
             ],
             [
              0.8888888888888888,
              "#b5de2b"
             ],
             [
              1,
              "#fde725"
             ]
            ],
            "type": "histogram2dcontour"
           }
          ],
          "mesh3d": [
           {
            "colorbar": {
             "outlinewidth": 1,
             "tickcolor": "rgb(36,36,36)",
             "ticks": "outside"
            },
            "type": "mesh3d"
           }
          ],
          "parcoords": [
           {
            "line": {
             "colorbar": {
              "outlinewidth": 1,
              "tickcolor": "rgb(36,36,36)",
              "ticks": "outside"
             }
            },
            "type": "parcoords"
           }
          ],
          "pie": [
           {
            "automargin": true,
            "type": "pie"
           }
          ],
          "scatter": [
           {
            "fillpattern": {
             "fillmode": "overlay",
             "size": 10,
             "solidity": 0.2
            },
            "type": "scatter"
           }
          ],
          "scatter3d": [
           {
            "line": {
             "colorbar": {
              "outlinewidth": 1,
              "tickcolor": "rgb(36,36,36)",
              "ticks": "outside"
             }
            },
            "marker": {
             "colorbar": {
              "outlinewidth": 1,
              "tickcolor": "rgb(36,36,36)",
              "ticks": "outside"
             }
            },
            "type": "scatter3d"
           }
          ],
          "scattercarpet": [
           {
            "marker": {
             "colorbar": {
              "outlinewidth": 1,
              "tickcolor": "rgb(36,36,36)",
              "ticks": "outside"
             }
            },
            "type": "scattercarpet"
           }
          ],
          "scattergeo": [
           {
            "marker": {
             "colorbar": {
              "outlinewidth": 1,
              "tickcolor": "rgb(36,36,36)",
              "ticks": "outside"
             }
            },
            "type": "scattergeo"
           }
          ],
          "scattergl": [
           {
            "marker": {
             "colorbar": {
              "outlinewidth": 1,
              "tickcolor": "rgb(36,36,36)",
              "ticks": "outside"
             }
            },
            "type": "scattergl"
           }
          ],
          "scattermapbox": [
           {
            "marker": {
             "colorbar": {
              "outlinewidth": 1,
              "tickcolor": "rgb(36,36,36)",
              "ticks": "outside"
             }
            },
            "type": "scattermapbox"
           }
          ],
          "scatterpolar": [
           {
            "marker": {
             "colorbar": {
              "outlinewidth": 1,
              "tickcolor": "rgb(36,36,36)",
              "ticks": "outside"
             }
            },
            "type": "scatterpolar"
           }
          ],
          "scatterpolargl": [
           {
            "marker": {
             "colorbar": {
              "outlinewidth": 1,
              "tickcolor": "rgb(36,36,36)",
              "ticks": "outside"
             }
            },
            "type": "scatterpolargl"
           }
          ],
          "scatterternary": [
           {
            "marker": {
             "colorbar": {
              "outlinewidth": 1,
              "tickcolor": "rgb(36,36,36)",
              "ticks": "outside"
             }
            },
            "type": "scatterternary"
           }
          ],
          "surface": [
           {
            "colorbar": {
             "outlinewidth": 1,
             "tickcolor": "rgb(36,36,36)",
             "ticks": "outside"
            },
            "colorscale": [
             [
              0,
              "#440154"
             ],
             [
              0.1111111111111111,
              "#482878"
             ],
             [
              0.2222222222222222,
              "#3e4989"
             ],
             [
              0.3333333333333333,
              "#31688e"
             ],
             [
              0.4444444444444444,
              "#26828e"
             ],
             [
              0.5555555555555556,
              "#1f9e89"
             ],
             [
              0.6666666666666666,
              "#35b779"
             ],
             [
              0.7777777777777778,
              "#6ece58"
             ],
             [
              0.8888888888888888,
              "#b5de2b"
             ],
             [
              1,
              "#fde725"
             ]
            ],
            "type": "surface"
           }
          ],
          "table": [
           {
            "cells": {
             "fill": {
              "color": "rgb(237,237,237)"
             },
             "line": {
              "color": "white"
             }
            },
            "header": {
             "fill": {
              "color": "rgb(217,217,217)"
             },
             "line": {
              "color": "white"
             }
            },
            "type": "table"
           }
          ]
         },
         "layout": {
          "annotationdefaults": {
           "arrowhead": 0,
           "arrowwidth": 1
          },
          "autotypenumbers": "strict",
          "coloraxis": {
           "colorbar": {
            "outlinewidth": 1,
            "tickcolor": "rgb(36,36,36)",
            "ticks": "outside"
           }
          },
          "colorscale": {
           "diverging": [
            [
             0,
             "rgb(103,0,31)"
            ],
            [
             0.1,
             "rgb(178,24,43)"
            ],
            [
             0.2,
             "rgb(214,96,77)"
            ],
            [
             0.3,
             "rgb(244,165,130)"
            ],
            [
             0.4,
             "rgb(253,219,199)"
            ],
            [
             0.5,
             "rgb(247,247,247)"
            ],
            [
             0.6,
             "rgb(209,229,240)"
            ],
            [
             0.7,
             "rgb(146,197,222)"
            ],
            [
             0.8,
             "rgb(67,147,195)"
            ],
            [
             0.9,
             "rgb(33,102,172)"
            ],
            [
             1,
             "rgb(5,48,97)"
            ]
           ],
           "sequential": [
            [
             0,
             "#440154"
            ],
            [
             0.1111111111111111,
             "#482878"
            ],
            [
             0.2222222222222222,
             "#3e4989"
            ],
            [
             0.3333333333333333,
             "#31688e"
            ],
            [
             0.4444444444444444,
             "#26828e"
            ],
            [
             0.5555555555555556,
             "#1f9e89"
            ],
            [
             0.6666666666666666,
             "#35b779"
            ],
            [
             0.7777777777777778,
             "#6ece58"
            ],
            [
             0.8888888888888888,
             "#b5de2b"
            ],
            [
             1,
             "#fde725"
            ]
           ],
           "sequentialminus": [
            [
             0,
             "#440154"
            ],
            [
             0.1111111111111111,
             "#482878"
            ],
            [
             0.2222222222222222,
             "#3e4989"
            ],
            [
             0.3333333333333333,
             "#31688e"
            ],
            [
             0.4444444444444444,
             "#26828e"
            ],
            [
             0.5555555555555556,
             "#1f9e89"
            ],
            [
             0.6666666666666666,
             "#35b779"
            ],
            [
             0.7777777777777778,
             "#6ece58"
            ],
            [
             0.8888888888888888,
             "#b5de2b"
            ],
            [
             1,
             "#fde725"
            ]
           ]
          },
          "colorway": [
           "#1F77B4",
           "#FF7F0E",
           "#2CA02C",
           "#D62728",
           "#9467BD",
           "#8C564B",
           "#E377C2",
           "#7F7F7F",
           "#BCBD22",
           "#17BECF"
          ],
          "font": {
           "color": "rgb(36,36,36)"
          },
          "geo": {
           "bgcolor": "white",
           "lakecolor": "white",
           "landcolor": "white",
           "showlakes": true,
           "showland": true,
           "subunitcolor": "white"
          },
          "hoverlabel": {
           "align": "left"
          },
          "hovermode": "closest",
          "mapbox": {
           "style": "light"
          },
          "paper_bgcolor": "white",
          "plot_bgcolor": "white",
          "polar": {
           "angularaxis": {
            "gridcolor": "rgb(232,232,232)",
            "linecolor": "rgb(36,36,36)",
            "showgrid": false,
            "showline": true,
            "ticks": "outside"
           },
           "bgcolor": "white",
           "radialaxis": {
            "gridcolor": "rgb(232,232,232)",
            "linecolor": "rgb(36,36,36)",
            "showgrid": false,
            "showline": true,
            "ticks": "outside"
           }
          },
          "scene": {
           "xaxis": {
            "backgroundcolor": "white",
            "gridcolor": "rgb(232,232,232)",
            "gridwidth": 2,
            "linecolor": "rgb(36,36,36)",
            "showbackground": true,
            "showgrid": false,
            "showline": true,
            "ticks": "outside",
            "zeroline": false,
            "zerolinecolor": "rgb(36,36,36)"
           },
           "yaxis": {
            "backgroundcolor": "white",
            "gridcolor": "rgb(232,232,232)",
            "gridwidth": 2,
            "linecolor": "rgb(36,36,36)",
            "showbackground": true,
            "showgrid": false,
            "showline": true,
            "ticks": "outside",
            "zeroline": false,
            "zerolinecolor": "rgb(36,36,36)"
           },
           "zaxis": {
            "backgroundcolor": "white",
            "gridcolor": "rgb(232,232,232)",
            "gridwidth": 2,
            "linecolor": "rgb(36,36,36)",
            "showbackground": true,
            "showgrid": false,
            "showline": true,
            "ticks": "outside",
            "zeroline": false,
            "zerolinecolor": "rgb(36,36,36)"
           }
          },
          "shapedefaults": {
           "fillcolor": "black",
           "line": {
            "width": 0
           },
           "opacity": 0.3
          },
          "ternary": {
           "aaxis": {
            "gridcolor": "rgb(232,232,232)",
            "linecolor": "rgb(36,36,36)",
            "showgrid": false,
            "showline": true,
            "ticks": "outside"
           },
           "baxis": {
            "gridcolor": "rgb(232,232,232)",
            "linecolor": "rgb(36,36,36)",
            "showgrid": false,
            "showline": true,
            "ticks": "outside"
           },
           "bgcolor": "white",
           "caxis": {
            "gridcolor": "rgb(232,232,232)",
            "linecolor": "rgb(36,36,36)",
            "showgrid": false,
            "showline": true,
            "ticks": "outside"
           }
          },
          "title": {
           "x": 0.05
          },
          "xaxis": {
           "automargin": true,
           "gridcolor": "rgb(232,232,232)",
           "linecolor": "rgb(36,36,36)",
           "showgrid": false,
           "showline": true,
           "ticks": "outside",
           "title": {
            "standoff": 15
           },
           "zeroline": false,
           "zerolinecolor": "rgb(36,36,36)"
          },
          "yaxis": {
           "automargin": true,
           "gridcolor": "rgb(232,232,232)",
           "linecolor": "rgb(36,36,36)",
           "showgrid": false,
           "showline": true,
           "ticks": "outside",
           "title": {
            "standoff": 15
           },
           "zeroline": false,
           "zerolinecolor": "rgb(36,36,36)"
          }
         }
        },
        "title": {
         "font": {
          "family": "Times New Roman",
          "size": 35
         },
         "text": "Focal Plane R/2=50.0cm"
        },
        "width": 720,
        "xaxis": {
         "mirror": true,
         "range": [
          0,
          150
         ],
         "showgrid": true,
         "tickfont": {
          "size": 15
         },
         "title": {
          "font": {
           "family": "Times New Roman",
           "size": 22
          },
          "text": "<i>x</i> [cm]"
         }
        },
        "yaxis": {
         "dtick": 20,
         "mirror": true,
         "range": [
          -80,
          80
         ],
         "showgrid": true,
         "tickfont": {
          "size": 15
         },
         "title": {
          "font": {
           "family": "Times New Roman",
           "size": 22
          },
          "text": "<i>y</i> [cm]"
         }
        }
       }
      }
     },
     "metadata": {},
     "output_type": "display_data"
    }
   ],
   "source": [
    "FP1 = go.Scatter(\n",
    "        x=X,\n",
    "        y=Y,\n",
    "        mode=\"lines\",\n",
    "        name=r\"focal plane\",\n",
    "        line=dict(\n",
    "            color=\"red\", \n",
    "            width=2,\n",
    "            #shape=\"hvh\"\n",
    "        ),\n",
    "        #showlegend=True,\n",
    "        showlegend=False,\n",
    "    )\n",
    "fig = go.Figure(FP1, layout=layout)\n",
    "fig.show()"
   ]
  },
  {
   "attachments": {},
   "cell_type": "markdown",
   "metadata": {},
   "source": [
    "# 2D Complex Situation"
   ]
  },
  {
   "cell_type": "code",
   "execution_count": 17,
   "metadata": {},
   "outputs": [],
   "source": [
    "def reflect_line2D(theta_c, EmPointX, R, x0Mirror, y0Mirror, x0beam, y0beam, theta_beam, L_em=5, fBack = True, fsin=True):\n",
    "    n_Aero = 1.021 # refractive index\n",
    "    n_Air = 1.000273 # refractive index\n",
    "    if fBack: # Emission Point is Back of Aerogel\n",
    "        b = np.tan(theta_beam)*(EmPointX-x0beam) + y0beam # y-coordinate of emission point\n",
    "    elif fsin: # Emission Point is Front & L_em is flight length of light\n",
    "        b = L_em*np.sin(theta_beam+theta_c) + np.tan(theta_beam)*(EmPointX-L_em*np.cos(theta_beam+theta_c)-x0beam) + y0beam\n",
    "    else: # Emission Point is Front & L_em is difference of x-coordinate between front emission point and back\n",
    "        b = L_em*np.tan(theta_beam+theta_c) + np.tan(theta_beam)*(EmPointX-L_em-x0beam) + y0beam\n",
    "    tantheta = np.tan(theta_beam+np.arcsin(n_Aero*np.sin(theta_c)/n_Air)) # slope of emission light line\n",
    "    A0 = np.sqrt(R**2-(b-y0Mirror)**2 - 2*(x0Mirror-EmPointX)*(b-y0Mirror)*tantheta + (R**2-(x0Mirror-EmPointX)**2)*tantheta**2) # part of sqrt in xM ,yM\n",
    "    xM = (x0Mirror-(b-y0Mirror-EmPointX*tantheta)*tantheta +A0 )/(1+tantheta**2) # x-coordinate of intersection of Mirror & emission light line\n",
    "    yM = tantheta*(x0Mirror-(b-y0Mirror)*tantheta - EmPointX + A0 )/(1+tantheta**2) + b # y-coordinate of intersection of Mirror & emission light line\n",
    "\n",
    "    tanTheta = (yM-y0Mirror)/(xM-x0Mirror) # slope of Perpendicular of Mirror at (xM, yM)\n",
    "    sin2Theta = 2*tanTheta/(1+tanTheta**2)\n",
    "    cos2Theta = (1-tanTheta**2)/(1+tanTheta**2)\n",
    "\n",
    "    A = (sin2Theta-tantheta*cos2Theta)/(cos2Theta+tantheta*sin2Theta)\n",
    "    B = (EmPointX*tantheta-b + y0Mirror-x0Mirror*tantheta - (x0Mirror*sin2Theta-y0Mirror*cos2Theta) + (x0Mirror*cos2Theta+y0Mirror*sin2Theta)*tantheta)/(cos2Theta+tantheta*sin2Theta)\n",
    "\n",
    "    return [A,B, tanTheta, xM, yM]\n"
   ]
  },
  {
   "cell_type": "code",
   "execution_count": 18,
   "metadata": {},
   "outputs": [],
   "source": [
    "R = 100.0 # Mirror Radius [cm]\n",
    "a = 60.0 # x-coordinate of Back end of Aerogel [cm] \n",
    "#theta_c = np.arange(-0.201,0.201, 0.01) # Cherenkov Angle\n",
    "theta_c = np.arange(-1.001,1.001, 0.01) # Cherenkov Angle\n",
    "Thick_Aero = 10 #cm\n",
    "L_em = 10 #cm \n",
    "theta_beam = 0.015 # rad\n",
    "x0beam = -100.0 #cm\n",
    "y0beam = 1.0 #cm\n",
    "#theta_mirror = 20.0 # degree\n",
    "#x0Mirror = R - R*np.cos(np.deg2rad(theta_mirror))\n",
    "#y0Mirror = R*np.sin(np.deg2rad(theta_mirror))\n",
    "theta_mirror = 0.17*2 # rad\n",
    "#x0Mirror = R - R*np.cos(theta_mirror)\n",
    "#y0Mirror = R*np.sin(theta_mirror)\n",
    "x0Mirror = 13\n",
    "y0Mirror = 21\n",
    "\n",
    "#theta = np.arcsin(n_Aero*np.sin(theta_c)/n_Air)\n",
    "#b = a - Thick_Aero*np.tan(theta_c)/np.tan(theta)\n",
    "\n",
    "line3 = reflect_line2D(theta_c, a, R, x0Mirror, y0Mirror, x0beam, y0beam, theta_beam)\n",
    "line4 = reflect_line2D(theta_c, a, R, x0Mirror, y0Mirror, x0beam, y0beam, theta_beam, L_em=L_em, fBack=False, fsin=False)\n",
    "\n",
    "X2 = (-line3[1]+line4[1])/(line3[0]-line4[0])\n",
    "Y2 = (line3[0]*line4[1]-line3[1]*line4[0])/(line3[0]-line4[0])"
   ]
  },
  {
   "cell_type": "code",
   "execution_count": 19,
   "metadata": {},
   "outputs": [],
   "source": [
    "TITLE_FONTSIZE = 35\n",
    "AXISTITLE_FONTSIZE = 22\n",
    "LEGEND_FONTSIZE = 22\n",
    "TICK_FONTSIZE = 15\n",
    "MARKERSIZE = 20\n",
    "\n",
    "layout2 = go.Layout(\n",
    "    width=720,\n",
    "    height=720,\n",
    "    template=\"simple_white\",\n",
    "    title_font=dict(size=TITLE_FONTSIZE, family=\"Times New Roman\"),\n",
    "    title=r\"Focal Plane (R/2=\" + str(\"{:.1f}\".format(R/2)) + \"cm)\",\n",
    "    xaxis=dict(\n",
    "        showgrid=True,\n",
    "        mirror=True,\n",
    "        range=(0., 120),\n",
    "        #range=(-2., 2),\n",
    "        title=r\"<i>x</i> [cm]\",\n",
    "        title_font=dict(size=AXISTITLE_FONTSIZE, family=\"Times New Roman\"),\n",
    "        tickfont=dict(size=TICK_FONTSIZE),\n",
    "        dtick=10,\n",
    "    ),\n",
    "    yaxis=dict(\n",
    "        showgrid=True,\n",
    "        mirror=True,\n",
    "        range=(-80, 80),\n",
    "        title=r\"<i>y</i> [cm]\",\n",
    "        title_font=dict(size=AXISTITLE_FONTSIZE, family=\"Times New Roman\"),\n",
    "        tickfont=dict(size=TICK_FONTSIZE),\n",
    "        scaleanchor=\"x\", \n",
    "        scaleratio=1,\n",
    "        dtick=10,\n",
    "    ),\n",
    "    legend_font=dict(size=LEGEND_FONTSIZE, family=\"Times New Roman\"),\n",
    ")"
   ]
  },
  {
   "cell_type": "code",
   "execution_count": 20,
   "metadata": {},
   "outputs": [
    {
     "data": {
      "application/vnd.plotly.v1+json": {
       "config": {
        "plotlyServerURL": "https://plot.ly"
       },
       "data": [
        {
         "line": {
          "color": "red",
          "width": 2
         },
         "mode": "lines",
         "name": "focal plane",
         "showlegend": false,
         "type": "scatter",
         "x": [
          43.526243859562996,
          43.866830492781254,
          44.2036647832339,
          44.53683423177401,
          44.866422329583855,
          45.19250886766366,
          45.51517021006748,
          45.83447953572118,
          46.15050705293514,
          46.46332019011003,
          46.77298376562766,
          47.0795601394964,
          47.383109348959835,
          47.68368922997941,
          47.981355526244684,
          48.276161987148754,
          48.56816045598012,
          48.85740094942448,
          49.14393172933545,
          49.42779936761241,
          49.70904880492599,
          49.987723403943036,
          50.26386499762524,
          50.53751393311307,
          50.808709111644376,
          51.07748802491022,
          51.343886788204614,
          51.60794017068621,
          51.869681623035994,
          52.12914330276348,
          52.38635609739103,
          52.64134964571683,
          52.89415235734031,
          53.144791430615534,
          53.39329286917792,
          53.63968149717603,
          53.883980973332484,
          54.12621380393703,
          54.366401354871414,
          54.60456386275552,
          54.840720445289826,
          55.07488911087098,
          55.30708676754261,
          55.53732923134181,
          55.76563123409334,
          55.992006430702645,
          56.21646740598813,
          56.43902568109624,
          56.65969171953265,
          56.878474932845634,
          57.095383685987294,
          57.310425302384786,
          57.52360606874247,
          57.73493123960012,
          57.9444050416655,
          58.1520306779411,
          58.35781033166393,
          58.561745170068534,
          58.763835347994814,
          58.96408001134577,
          59.162477300413244,
          59.35902435307876,
          59.553717307900854,
          59.746551307096226,
          59.93752049942687,
          60.12661804299404,
          60.313836107954586,
          60.499165879157495,
          60.68259755871437,
          60.86412036850151,
          61.04372255260768,
          61.22139137972457,
          61.39711314548863,
          61.57087317477707,
          61.74265582396474,
          61.91244448314145,
          62.080221578298165,
          62.24596857348216,
          62.40966597292707,
          62.57129332316256,
          62.73082921510142,
          62.88825128611914,
          63.04353622211293,
          63.19665975956281,
          63.34759668758529,
          63.496320849989075,
          63.6428051473345,
          63.78702153900241,
          63.92894104528339,
          64.06853374947792,
          64.20576880002419,
          64.34061441265723,
          64.473037872595,
          64.60300553678358,
          64.73048283616257,
          64.85543427800728,
          64.977823448327,
          65.09761301431197,
          65.21476472688416,
          65.3292394233149,
          65.44099702995848,
          65.549996564972,
          65.65619614139848,
          65.75955297007376,
          65.86002336287117,
          65.95756273598539,
          66.05212561341654,
          66.14366563060575,
          66.23213553823696,
          66.3174872062383,
          66.39967162799296,
          66.47863892475257,
          66.55433835030092,
          66.6267182958465,
          66.69572629519317,
          66.7613090301857,
          66.82341233645029,
          66.88198120945219,
          66.9369598108858,
          66.98829147541642,
          67.03591871779055,
          67.07978324034113,
          67.119825940899,
          67.15598692114024,
          67.18820549538358,
          67.21642019986693,
          67.24056880251582,
          67.26058831323584,
          67.27641499474767,
          67.28798437398635,
          67.29523125409206,
          67.29808972701255,
          67.29649318674497,
          67.29037434323476,
          67.2796652369651,
          67.26429725424764,
          67.24420114325062,
          67.21930703078003,
          67.18954443983539,
          67.15484230796925,
          67.11512900646379,
          67.07033236034911,
          67.02037966928361,
          66.96519772930922,
          66.90471285550304,
          66.83885090553927,
          66.76753730417272,
          66.69069706865626,
          66.60825483510014,
          66.52013488577934,
          66.42626117739157,
          66.32655737026437,
          66.22094685850982,
          66.10935280111481,
          65.99169815395493,
          65.86790570271705,
          65.73789809670158,
          65.60159788347985,
          65.45892754436545,
          65.3098095306617,
          65.15416630062593,
          64.99192035709886,
          64.82299428572033,
          64.64731079365535,
          64.4647927487398,
          64.27536321893434,
          64.07894551197306,
          63.875463215071676,
          63.66484023454169,
          63.447000835144124,
          63.22186967899046,
          62.98937186378288,
          62.749432960150536,
          62.50197904782664,
          62.24693675036487,
          61.98423326807244,
          61.71379640879586,
          61.43555461615083,
          61.14943699474939,
          60.85537333191729,
          60.55329411534654,
          60.24313054605342,
          59.92481454594652,
          59.598278759224996,
          59.263456546732904,
          58.92028197228606,
          58.56868977987681,
          58.20861536050897,
          57.83999470727059,
          57.46276435705363,
          57.076861317133094,
          56.682222974556424,
          56.27878698602062,
          55.866491145570144,
          55.44527322705933,
          55.015070797858456,
          54.575820999735846,
          54.12746029219473,
          53.66992415277074,
          53.20314672785763,
          52.72706042651505
         ],
         "y": [
          -24.998694866717084,
          -24.58866572769122,
          -24.177120668691217,
          -23.76406405512422,
          -23.349502528206983,
          -22.933444710516547,
          -22.515900947854732,
          -22.096883082416166,
          -21.676404253027027,
          -21.25447871885997,
          -20.831121703565,
          -20.406349257201025,
          -19.980178133725857,
          -19.552625682116908,
          -19.123709749460115,
          -18.693448594569634,
          -18.261860810890933,
          -17.828965257604224,
          -17.3947809979843,
          -16.959327244191034,
          -16.522623307769607,
          -16.084688555227306,
          -15.64554236812967,
          -15.20520410722744,
          -14.763693080180879,
          -14.321028512500506,
          -13.87722952136622,
          -13.432315092025538,
          -12.986304056505347,
          -12.539215074400666,
          -12.091066615531737,
          -11.641876944281035,
          -11.19166410544449,
          -10.74044591144872,
          -10.28823993080107,
          -9.83506347765351,
          -9.380933602376457,
          -8.925867083046239,
          -8.469880417762587,
          -8.012989817721051,
          -7.55521120097187,
          -7.0965601868062045,
          -6.6370520907155965,
          -6.176701919877113,
          -5.715524369120953,
          -5.253533817343862,
          -4.790744324333675,
          -4.327169627976188,
          -3.8628231418177275,
          -3.3977179529613477,
          -2.9318668202747715,
          -2.46528217289531,
          -1.997976109014362,
          -1.5299603949304048,
          -1.0612464643584167,
          -0.5918454179872236,
          -0.12176802327839686,
          0.3489752855015346,
          0.8203744070168206,
          1.2924195723723675,
          1.7651013443973276,
          2.2384106167045945,
          2.7123386125254596,
          3.186876883319157,
          3.6620173071537376,
          4.137752086858152,
          4.614073747938997,
          5.090975136261055,
          5.568449415483744,
          6.046490064251743,
          6.525090873129901,
          7.00424594127958,
          7.483949672867896,
          7.9641967732034615,
          8.444982244589497,
          8.926301381888697,
          9.408149767789505,
          9.890523267766385,
          10.37341802472453,
          10.856830453319354,
          11.340757233943823,
          11.825195306368832,
          12.310141863034296,
          12.795594341972265,
          13.28155041935867,
          13.768008001679476,
          14.254965217502617,
          14.742420408844813,
          15.230372122118867,
          15.718819098657379,
          16.207760264795905,
          16.697194721507234,
          17.18712173357709,
          17.677540718302517,
          18.168451233717395,
          18.659852966314684,
          19.15174571826823,
          19.644129394144315,
          20.13700398707356,
          20.63036956439971,
          21.12422625276157,
          21.618574222670993,
          22.11341367241038,
          22.60874481148238,
          23.10456784338051,
          23.600882947802443,
          24.097690262237595,
          24.594989862944132,
          25.092781745305025,
          25.591065803543323,
          26.089841809797317,
          26.589109392549805,
          27.088868014397075,
          27.58911694916004,
          28.08985525832258,
          28.591081766800233,
          29.092795038028473,
          29.594993348371506,
          30.09767466084482,
          30.600836598151506,
          31.104476415030934,
          31.608590969918442,
          32.11317669591794,
          32.61822957108745,
          33.123745088042675,
          33.62971822288074,
          34.13614340342987,
          34.64301447683296,
          35.15032467647013,
          35.658066588232884,
          36.16623211615886,
          36.674812447441084,
          37.18379801682417,
          37.693178470406814,
          38.202942628863916,
          38.71307845011399,
          39.22357299144833,
          39.7344123711491,
          40.24558172962296,
          40.757065190076496,
          41.26884581876616,
          41.78090558485616,
          42.293225319918854,
          42.8057846771184,
          43.31856209011715,
          43.83153473175006,
          44.34467847251413,
          44.857967838922946,
          45.37137597177963,
          45.884874584425326,
          46.398433921021834,
          46.91202271493327,
          47.425608147271966,
          47.93915580568014,
          48.452629643421034,
          48.9659919388568,
          49.47920325539595,
          49.992222401995015,
          50.50500639430527,
          51.01751041655728,
          51.52968778428343,
          52.041489907978765,
          52.55286625781035,
          53.06376432948488,
          53.57412961139238,
          54.08390555314869,
          54.593033535662556,
          55.10145284286129,
          55.60910063521253,
          56.11591192518702,
          56.62181955481331,
          57.12675417548075,
          57.63064423015733,
          58.133415938192606,
          58.634993282888225,
          59.13529800202453,
          59.63424958154398,
          60.131765252601056,
          60.62775999220228,
          61.122146527672776,
          61.614835345200426,
          62.10573470272758,
          62.594750647478776,
          63.081787038435415,
          63.56674557409536,
          64.04952582588429,
          64.53002527762084,
          65.00813937147763,
          65.48376156092874,
          65.9567833712277,
          66.4270944680274,
          66.8945827348293,
          67.359134360041,
          67.82063393452985,
          68.27896456069023,
          68.73400797419598,
          69.18564467979658,
          69.633754102738,
          70.07821475766026,
          70.5189044371498,
          70.95570042252413
         ]
        }
       ],
       "layout": {
        "height": 720,
        "legend": {
         "font": {
          "family": "Times New Roman",
          "size": 22
         }
        },
        "template": {
         "data": {
          "bar": [
           {
            "error_x": {
             "color": "rgb(36,36,36)"
            },
            "error_y": {
             "color": "rgb(36,36,36)"
            },
            "marker": {
             "line": {
              "color": "white",
              "width": 0.5
             },
             "pattern": {
              "fillmode": "overlay",
              "size": 10,
              "solidity": 0.2
             }
            },
            "type": "bar"
           }
          ],
          "barpolar": [
           {
            "marker": {
             "line": {
              "color": "white",
              "width": 0.5
             },
             "pattern": {
              "fillmode": "overlay",
              "size": 10,
              "solidity": 0.2
             }
            },
            "type": "barpolar"
           }
          ],
          "carpet": [
           {
            "aaxis": {
             "endlinecolor": "rgb(36,36,36)",
             "gridcolor": "white",
             "linecolor": "white",
             "minorgridcolor": "white",
             "startlinecolor": "rgb(36,36,36)"
            },
            "baxis": {
             "endlinecolor": "rgb(36,36,36)",
             "gridcolor": "white",
             "linecolor": "white",
             "minorgridcolor": "white",
             "startlinecolor": "rgb(36,36,36)"
            },
            "type": "carpet"
           }
          ],
          "choropleth": [
           {
            "colorbar": {
             "outlinewidth": 1,
             "tickcolor": "rgb(36,36,36)",
             "ticks": "outside"
            },
            "type": "choropleth"
           }
          ],
          "contour": [
           {
            "colorbar": {
             "outlinewidth": 1,
             "tickcolor": "rgb(36,36,36)",
             "ticks": "outside"
            },
            "colorscale": [
             [
              0,
              "#440154"
             ],
             [
              0.1111111111111111,
              "#482878"
             ],
             [
              0.2222222222222222,
              "#3e4989"
             ],
             [
              0.3333333333333333,
              "#31688e"
             ],
             [
              0.4444444444444444,
              "#26828e"
             ],
             [
              0.5555555555555556,
              "#1f9e89"
             ],
             [
              0.6666666666666666,
              "#35b779"
             ],
             [
              0.7777777777777778,
              "#6ece58"
             ],
             [
              0.8888888888888888,
              "#b5de2b"
             ],
             [
              1,
              "#fde725"
             ]
            ],
            "type": "contour"
           }
          ],
          "contourcarpet": [
           {
            "colorbar": {
             "outlinewidth": 1,
             "tickcolor": "rgb(36,36,36)",
             "ticks": "outside"
            },
            "type": "contourcarpet"
           }
          ],
          "heatmap": [
           {
            "colorbar": {
             "outlinewidth": 1,
             "tickcolor": "rgb(36,36,36)",
             "ticks": "outside"
            },
            "colorscale": [
             [
              0,
              "#440154"
             ],
             [
              0.1111111111111111,
              "#482878"
             ],
             [
              0.2222222222222222,
              "#3e4989"
             ],
             [
              0.3333333333333333,
              "#31688e"
             ],
             [
              0.4444444444444444,
              "#26828e"
             ],
             [
              0.5555555555555556,
              "#1f9e89"
             ],
             [
              0.6666666666666666,
              "#35b779"
             ],
             [
              0.7777777777777778,
              "#6ece58"
             ],
             [
              0.8888888888888888,
              "#b5de2b"
             ],
             [
              1,
              "#fde725"
             ]
            ],
            "type": "heatmap"
           }
          ],
          "heatmapgl": [
           {
            "colorbar": {
             "outlinewidth": 1,
             "tickcolor": "rgb(36,36,36)",
             "ticks": "outside"
            },
            "colorscale": [
             [
              0,
              "#440154"
             ],
             [
              0.1111111111111111,
              "#482878"
             ],
             [
              0.2222222222222222,
              "#3e4989"
             ],
             [
              0.3333333333333333,
              "#31688e"
             ],
             [
              0.4444444444444444,
              "#26828e"
             ],
             [
              0.5555555555555556,
              "#1f9e89"
             ],
             [
              0.6666666666666666,
              "#35b779"
             ],
             [
              0.7777777777777778,
              "#6ece58"
             ],
             [
              0.8888888888888888,
              "#b5de2b"
             ],
             [
              1,
              "#fde725"
             ]
            ],
            "type": "heatmapgl"
           }
          ],
          "histogram": [
           {
            "marker": {
             "line": {
              "color": "white",
              "width": 0.6
             }
            },
            "type": "histogram"
           }
          ],
          "histogram2d": [
           {
            "colorbar": {
             "outlinewidth": 1,
             "tickcolor": "rgb(36,36,36)",
             "ticks": "outside"
            },
            "colorscale": [
             [
              0,
              "#440154"
             ],
             [
              0.1111111111111111,
              "#482878"
             ],
             [
              0.2222222222222222,
              "#3e4989"
             ],
             [
              0.3333333333333333,
              "#31688e"
             ],
             [
              0.4444444444444444,
              "#26828e"
             ],
             [
              0.5555555555555556,
              "#1f9e89"
             ],
             [
              0.6666666666666666,
              "#35b779"
             ],
             [
              0.7777777777777778,
              "#6ece58"
             ],
             [
              0.8888888888888888,
              "#b5de2b"
             ],
             [
              1,
              "#fde725"
             ]
            ],
            "type": "histogram2d"
           }
          ],
          "histogram2dcontour": [
           {
            "colorbar": {
             "outlinewidth": 1,
             "tickcolor": "rgb(36,36,36)",
             "ticks": "outside"
            },
            "colorscale": [
             [
              0,
              "#440154"
             ],
             [
              0.1111111111111111,
              "#482878"
             ],
             [
              0.2222222222222222,
              "#3e4989"
             ],
             [
              0.3333333333333333,
              "#31688e"
             ],
             [
              0.4444444444444444,
              "#26828e"
             ],
             [
              0.5555555555555556,
              "#1f9e89"
             ],
             [
              0.6666666666666666,
              "#35b779"
             ],
             [
              0.7777777777777778,
              "#6ece58"
             ],
             [
              0.8888888888888888,
              "#b5de2b"
             ],
             [
              1,
              "#fde725"
             ]
            ],
            "type": "histogram2dcontour"
           }
          ],
          "mesh3d": [
           {
            "colorbar": {
             "outlinewidth": 1,
             "tickcolor": "rgb(36,36,36)",
             "ticks": "outside"
            },
            "type": "mesh3d"
           }
          ],
          "parcoords": [
           {
            "line": {
             "colorbar": {
              "outlinewidth": 1,
              "tickcolor": "rgb(36,36,36)",
              "ticks": "outside"
             }
            },
            "type": "parcoords"
           }
          ],
          "pie": [
           {
            "automargin": true,
            "type": "pie"
           }
          ],
          "scatter": [
           {
            "fillpattern": {
             "fillmode": "overlay",
             "size": 10,
             "solidity": 0.2
            },
            "type": "scatter"
           }
          ],
          "scatter3d": [
           {
            "line": {
             "colorbar": {
              "outlinewidth": 1,
              "tickcolor": "rgb(36,36,36)",
              "ticks": "outside"
             }
            },
            "marker": {
             "colorbar": {
              "outlinewidth": 1,
              "tickcolor": "rgb(36,36,36)",
              "ticks": "outside"
             }
            },
            "type": "scatter3d"
           }
          ],
          "scattercarpet": [
           {
            "marker": {
             "colorbar": {
              "outlinewidth": 1,
              "tickcolor": "rgb(36,36,36)",
              "ticks": "outside"
             }
            },
            "type": "scattercarpet"
           }
          ],
          "scattergeo": [
           {
            "marker": {
             "colorbar": {
              "outlinewidth": 1,
              "tickcolor": "rgb(36,36,36)",
              "ticks": "outside"
             }
            },
            "type": "scattergeo"
           }
          ],
          "scattergl": [
           {
            "marker": {
             "colorbar": {
              "outlinewidth": 1,
              "tickcolor": "rgb(36,36,36)",
              "ticks": "outside"
             }
            },
            "type": "scattergl"
           }
          ],
          "scattermapbox": [
           {
            "marker": {
             "colorbar": {
              "outlinewidth": 1,
              "tickcolor": "rgb(36,36,36)",
              "ticks": "outside"
             }
            },
            "type": "scattermapbox"
           }
          ],
          "scatterpolar": [
           {
            "marker": {
             "colorbar": {
              "outlinewidth": 1,
              "tickcolor": "rgb(36,36,36)",
              "ticks": "outside"
             }
            },
            "type": "scatterpolar"
           }
          ],
          "scatterpolargl": [
           {
            "marker": {
             "colorbar": {
              "outlinewidth": 1,
              "tickcolor": "rgb(36,36,36)",
              "ticks": "outside"
             }
            },
            "type": "scatterpolargl"
           }
          ],
          "scatterternary": [
           {
            "marker": {
             "colorbar": {
              "outlinewidth": 1,
              "tickcolor": "rgb(36,36,36)",
              "ticks": "outside"
             }
            },
            "type": "scatterternary"
           }
          ],
          "surface": [
           {
            "colorbar": {
             "outlinewidth": 1,
             "tickcolor": "rgb(36,36,36)",
             "ticks": "outside"
            },
            "colorscale": [
             [
              0,
              "#440154"
             ],
             [
              0.1111111111111111,
              "#482878"
             ],
             [
              0.2222222222222222,
              "#3e4989"
             ],
             [
              0.3333333333333333,
              "#31688e"
             ],
             [
              0.4444444444444444,
              "#26828e"
             ],
             [
              0.5555555555555556,
              "#1f9e89"
             ],
             [
              0.6666666666666666,
              "#35b779"
             ],
             [
              0.7777777777777778,
              "#6ece58"
             ],
             [
              0.8888888888888888,
              "#b5de2b"
             ],
             [
              1,
              "#fde725"
             ]
            ],
            "type": "surface"
           }
          ],
          "table": [
           {
            "cells": {
             "fill": {
              "color": "rgb(237,237,237)"
             },
             "line": {
              "color": "white"
             }
            },
            "header": {
             "fill": {
              "color": "rgb(217,217,217)"
             },
             "line": {
              "color": "white"
             }
            },
            "type": "table"
           }
          ]
         },
         "layout": {
          "annotationdefaults": {
           "arrowhead": 0,
           "arrowwidth": 1
          },
          "autotypenumbers": "strict",
          "coloraxis": {
           "colorbar": {
            "outlinewidth": 1,
            "tickcolor": "rgb(36,36,36)",
            "ticks": "outside"
           }
          },
          "colorscale": {
           "diverging": [
            [
             0,
             "rgb(103,0,31)"
            ],
            [
             0.1,
             "rgb(178,24,43)"
            ],
            [
             0.2,
             "rgb(214,96,77)"
            ],
            [
             0.3,
             "rgb(244,165,130)"
            ],
            [
             0.4,
             "rgb(253,219,199)"
            ],
            [
             0.5,
             "rgb(247,247,247)"
            ],
            [
             0.6,
             "rgb(209,229,240)"
            ],
            [
             0.7,
             "rgb(146,197,222)"
            ],
            [
             0.8,
             "rgb(67,147,195)"
            ],
            [
             0.9,
             "rgb(33,102,172)"
            ],
            [
             1,
             "rgb(5,48,97)"
            ]
           ],
           "sequential": [
            [
             0,
             "#440154"
            ],
            [
             0.1111111111111111,
             "#482878"
            ],
            [
             0.2222222222222222,
             "#3e4989"
            ],
            [
             0.3333333333333333,
             "#31688e"
            ],
            [
             0.4444444444444444,
             "#26828e"
            ],
            [
             0.5555555555555556,
             "#1f9e89"
            ],
            [
             0.6666666666666666,
             "#35b779"
            ],
            [
             0.7777777777777778,
             "#6ece58"
            ],
            [
             0.8888888888888888,
             "#b5de2b"
            ],
            [
             1,
             "#fde725"
            ]
           ],
           "sequentialminus": [
            [
             0,
             "#440154"
            ],
            [
             0.1111111111111111,
             "#482878"
            ],
            [
             0.2222222222222222,
             "#3e4989"
            ],
            [
             0.3333333333333333,
             "#31688e"
            ],
            [
             0.4444444444444444,
             "#26828e"
            ],
            [
             0.5555555555555556,
             "#1f9e89"
            ],
            [
             0.6666666666666666,
             "#35b779"
            ],
            [
             0.7777777777777778,
             "#6ece58"
            ],
            [
             0.8888888888888888,
             "#b5de2b"
            ],
            [
             1,
             "#fde725"
            ]
           ]
          },
          "colorway": [
           "#1F77B4",
           "#FF7F0E",
           "#2CA02C",
           "#D62728",
           "#9467BD",
           "#8C564B",
           "#E377C2",
           "#7F7F7F",
           "#BCBD22",
           "#17BECF"
          ],
          "font": {
           "color": "rgb(36,36,36)"
          },
          "geo": {
           "bgcolor": "white",
           "lakecolor": "white",
           "landcolor": "white",
           "showlakes": true,
           "showland": true,
           "subunitcolor": "white"
          },
          "hoverlabel": {
           "align": "left"
          },
          "hovermode": "closest",
          "mapbox": {
           "style": "light"
          },
          "paper_bgcolor": "white",
          "plot_bgcolor": "white",
          "polar": {
           "angularaxis": {
            "gridcolor": "rgb(232,232,232)",
            "linecolor": "rgb(36,36,36)",
            "showgrid": false,
            "showline": true,
            "ticks": "outside"
           },
           "bgcolor": "white",
           "radialaxis": {
            "gridcolor": "rgb(232,232,232)",
            "linecolor": "rgb(36,36,36)",
            "showgrid": false,
            "showline": true,
            "ticks": "outside"
           }
          },
          "scene": {
           "xaxis": {
            "backgroundcolor": "white",
            "gridcolor": "rgb(232,232,232)",
            "gridwidth": 2,
            "linecolor": "rgb(36,36,36)",
            "showbackground": true,
            "showgrid": false,
            "showline": true,
            "ticks": "outside",
            "zeroline": false,
            "zerolinecolor": "rgb(36,36,36)"
           },
           "yaxis": {
            "backgroundcolor": "white",
            "gridcolor": "rgb(232,232,232)",
            "gridwidth": 2,
            "linecolor": "rgb(36,36,36)",
            "showbackground": true,
            "showgrid": false,
            "showline": true,
            "ticks": "outside",
            "zeroline": false,
            "zerolinecolor": "rgb(36,36,36)"
           },
           "zaxis": {
            "backgroundcolor": "white",
            "gridcolor": "rgb(232,232,232)",
            "gridwidth": 2,
            "linecolor": "rgb(36,36,36)",
            "showbackground": true,
            "showgrid": false,
            "showline": true,
            "ticks": "outside",
            "zeroline": false,
            "zerolinecolor": "rgb(36,36,36)"
           }
          },
          "shapedefaults": {
           "fillcolor": "black",
           "line": {
            "width": 0
           },
           "opacity": 0.3
          },
          "ternary": {
           "aaxis": {
            "gridcolor": "rgb(232,232,232)",
            "linecolor": "rgb(36,36,36)",
            "showgrid": false,
            "showline": true,
            "ticks": "outside"
           },
           "baxis": {
            "gridcolor": "rgb(232,232,232)",
            "linecolor": "rgb(36,36,36)",
            "showgrid": false,
            "showline": true,
            "ticks": "outside"
           },
           "bgcolor": "white",
           "caxis": {
            "gridcolor": "rgb(232,232,232)",
            "linecolor": "rgb(36,36,36)",
            "showgrid": false,
            "showline": true,
            "ticks": "outside"
           }
          },
          "title": {
           "x": 0.05
          },
          "xaxis": {
           "automargin": true,
           "gridcolor": "rgb(232,232,232)",
           "linecolor": "rgb(36,36,36)",
           "showgrid": false,
           "showline": true,
           "ticks": "outside",
           "title": {
            "standoff": 15
           },
           "zeroline": false,
           "zerolinecolor": "rgb(36,36,36)"
          },
          "yaxis": {
           "automargin": true,
           "gridcolor": "rgb(232,232,232)",
           "linecolor": "rgb(36,36,36)",
           "showgrid": false,
           "showline": true,
           "ticks": "outside",
           "title": {
            "standoff": 15
           },
           "zeroline": false,
           "zerolinecolor": "rgb(36,36,36)"
          }
         }
        },
        "title": {
         "font": {
          "family": "Times New Roman",
          "size": 35
         },
         "text": "Focal Plane (R/2=50.0cm)"
        },
        "width": 720,
        "xaxis": {
         "dtick": 10,
         "mirror": true,
         "range": [
          0,
          120
         ],
         "showgrid": true,
         "tickfont": {
          "size": 15
         },
         "title": {
          "font": {
           "family": "Times New Roman",
           "size": 22
          },
          "text": "<i>x</i> [cm]"
         }
        },
        "yaxis": {
         "dtick": 10,
         "mirror": true,
         "range": [
          -80,
          80
         ],
         "scaleanchor": "x",
         "scaleratio": 1,
         "showgrid": true,
         "tickfont": {
          "size": 15
         },
         "title": {
          "font": {
           "family": "Times New Roman",
           "size": 22
          },
          "text": "<i>y</i> [cm]"
         }
        }
       }
      }
     },
     "metadata": {},
     "output_type": "display_data"
    }
   ],
   "source": [
    "FP2 = go.Scatter(\n",
    "        x=X2,\n",
    "        y=Y2,\n",
    "        #x=line3[3],\n",
    "        #y=line3[4],\n",
    "        #x=theta,\n",
    "        #y=np.sqrt((line3[3]-x0Mirror)**2 + (line3[4]-y0Mirror)**2),\n",
    "        mode=\"lines\",\n",
    "        name=r\"focal plane\",\n",
    "        line=dict(\n",
    "            color=\"red\", \n",
    "            width=2,\n",
    "            #shape=\"hvh\"\n",
    "        ),\n",
    "        #showlegend=True,\n",
    "        showlegend=False,\n",
    "    )\n",
    "fig2 = go.Figure(FP2, layout=layout2)\n",
    "fig2.show()"
   ]
  },
  {
   "attachments": {},
   "cell_type": "markdown",
   "metadata": {},
   "source": [
    "# 3D ray tracing"
   ]
  },
  {
   "attachments": {},
   "cell_type": "markdown",
   "metadata": {},
   "source": [
    "## 3次元の回転行列"
   ]
  },
  {
   "cell_type": "code",
   "execution_count": 3,
   "metadata": {},
   "outputs": [],
   "source": [
    "def RotMatrix(xM, yM, zM, x0Mirror, y0Mirror, z0Mirror, Radius):\n",
    "    r11 = ( (xM - x0Mirror)**2 - (yM - y0Mirror)**2 - (zM - z0Mirror)**2 )/ Radius**2\n",
    "    r22 = ( -(xM - x0Mirror)**2 + (yM - y0Mirror)**2 - (zM - z0Mirror)**2 )/ Radius**2\n",
    "    r33 = ( - (xM - x0Mirror)**2 - (yM - y0Mirror)**2 + (zM - z0Mirror)**2 )/ Radius**2\n",
    "    r12 = 2*(xM-x0Mirror)*(yM-y0Mirror)/Radius**2\n",
    "    r21 = r12\n",
    "    r13 = 2*(xM-x0Mirror)*(zM-z0Mirror)/Radius**2\n",
    "    r31 = r13\n",
    "    r23 = 2*(yM-y0Mirror)*(zM-z0Mirror)/Radius**2\n",
    "    r32 = r23\n",
    "    \n",
    "    #return np.matrix([[r11, r12, r13], [r21, r22, r23], [r31, r32, r33]])\n",
    "    return np.array([[r11, r12, r13], [r21, r22, r23], [r31, r32, r33]])"
   ]
  },
  {
   "cell_type": "code",
   "execution_count": 4,
   "metadata": {},
   "outputs": [
    {
     "data": {
      "text/plain": [
       "array([[-0.12,  0.04,  0.06],\n",
       "       [ 0.04, -0.06,  0.12],\n",
       "       [ 0.06,  0.12,  0.04]])"
      ]
     },
     "execution_count": 4,
     "metadata": {},
     "output_type": "execute_result"
    }
   ],
   "source": [
    "RotMatrix(10, 20, 30, 0,0,0, 100)"
   ]
  },
  {
   "attachments": {},
   "cell_type": "markdown",
   "metadata": {},
   "source": [
    "## 球面鏡で反射された光の方向ベクトルを求める"
   ]
  },
  {
   "cell_type": "code",
   "execution_count": 11,
   "metadata": {},
   "outputs": [],
   "source": [
    "def direction_ref(xM, yM, zM, xE, yE, zE, x0Mirror, y0Mirror, z0Mirror, Radius):\n",
    "    L_e = np.sqrt((xM-xE)**2 + (yM-yE)**2 + (zM-zE)**2)\n",
    "    d_emission = np.array([[(xM-xE)/L_e], [(yM-yE)/L_e], [(zM-zE)/L_e]])\n",
    "    RotM = RotMatrix(xM, yM, zM, x0Mirror, y0Mirror, z0Mirror, Radius)\n",
    "    return -1 * (RotM@d_emission).flatten()"
   ]
  },
  {
   "cell_type": "code",
   "execution_count": 19,
   "metadata": {},
   "outputs": [
    {
     "data": {
      "text/plain": [
       "array([-0.9884902 ,  0.15128494, -0.        ])"
      ]
     },
     "execution_count": 19,
     "metadata": {},
     "output_type": "execute_result"
    }
   ],
   "source": [
    "d_ref = direction_ref(101.4849400268, 19.9809400966, 0, 5, 0, 0, 1.5191739036 ,17.3645296907, 0, 100)\n",
    "d_ref"
   ]
  },
  {
   "cell_type": "code",
   "execution_count": 17,
   "metadata": {},
   "outputs": [
    {
     "data": {
      "text/plain": [
       "1.000000000001042"
      ]
     },
     "execution_count": 17,
     "metadata": {},
     "output_type": "execute_result"
    }
   ],
   "source": [
    "np.linalg.norm(d_ref, ord=2)"
   ]
  },
  {
   "cell_type": "code",
   "execution_count": 13,
   "metadata": {},
   "outputs": [
    {
     "data": {
      "text/plain": [
       "0.9792230735063551"
      ]
     },
     "execution_count": 13,
     "metadata": {},
     "output_type": "execute_result"
    }
   ],
   "source": [
    "#0.9884902/1.0094637497\n",
    "-1*d_ref[0]/1.0094637497"
   ]
  },
  {
   "cell_type": "code",
   "execution_count": 14,
   "metadata": {},
   "outputs": [
    {
     "data": {
      "text/plain": [
       "0.979223073185668"
      ]
     },
     "execution_count": 14,
     "metadata": {},
     "output_type": "execute_result"
    }
   ],
   "source": [
    "#0.15128494/0.1544948692\n",
    "d_ref[1]/0.1544948692"
   ]
  },
  {
   "attachments": {},
   "cell_type": "markdown",
   "metadata": {},
   "source": [
    "## 反射された光と検出点との距離"
   ]
  },
  {
   "cell_type": "code",
   "execution_count": 31,
   "metadata": {},
   "outputs": [],
   "source": [
    "def distance_func(xM, yM, zM, xD, yD, zD, xE, yE, zE, x0Mirror, y0Mirror, z0Mirror, Radius):\n",
    "    rD = np.array([xD-xM, yD-yM, zD-zM])\n",
    "    d_ref = direction_ref(xM, yM, zM, xE, yE, zE, x0Mirror, y0Mirror, z0Mirror, Radius)\n",
    "    return np.linalg.norm(np.cross(rD, d_ref), ord=2)/np.linalg.norm(d_ref, ord=2)"
   ]
  },
  {
   "cell_type": "code",
   "execution_count": 39,
   "metadata": {},
   "outputs": [
    {
     "data": {
      "text/plain": [
       "10.370412792092068"
      ]
     },
     "execution_count": 39,
     "metadata": {},
     "output_type": "execute_result"
    }
   ],
   "source": [
    "distance_func(101.4849400268, 19.9809400966, 0, 42.4757289991, 39.5032559114, 0, 5, 0, 0, 1.5191739036 ,17.3645296907, 0, 100)"
   ]
  },
  {
   "attachments": {},
   "cell_type": "markdown",
   "metadata": {},
   "source": [
    "## Scipy.optimize.minimize を用いた反射点計算"
   ]
  },
  {
   "attachments": {},
   "cell_type": "markdown",
   "metadata": {},
   "source": [
    "### 拘束条件 (反射点が球面上にある)"
   ]
  },
  {
   "cell_type": "code",
   "execution_count": 123,
   "metadata": {},
   "outputs": [],
   "source": [
    "def equality_constranint(x, *args):\n",
    "    xM, yM, zM = x[0], x[1], x[2]\n",
    "    x0Mirror, y0Mirror, z0Mirror, Radius = args[0], args[1], args[2], args[3]\n",
    "    xD, yD, zD   = args[4], args[5], args[6], args[7]\n",
    "    xE, yE, zE = args[8], args[9], args[10]\n",
    "#    x0Mirror, y0Mirror, z0Mirror, Radius = args[0][0], args[0][1], args[0][2], args[0][3]\n",
    "#    xD, yD, zD   = args[0][4], args[0][5], args[0][6], args[0][7]\n",
    "#    xE, yE, zE = args[0][8], args[0][9], args[0][10]\n",
    "    return (xM-x0Mirror)**2 + (yM-y0Mirror)**2 + (zM-z0Mirror)**2 - Radius**2"
   ]
  },
  {
   "cell_type": "code",
   "execution_count": 125,
   "metadata": {},
   "outputs": [],
   "source": [
    "def equality_constranint2(x, xD, yD, zD, xE, yE, zE, x0Mirror, y0Mirror, z0Mirror, Radius):\n",
    "    xM, yM, zM = x[0], x[1], x[2]\n",
    "#    x0Mirror, y0Mirror, z0Mirror, Radius = args[0], args[1], args[2], args[3]\n",
    "#    xD, yD, zD   = args[4], args[5], args[6], args[7]\n",
    "#    xE, yE, zE = args[8], args[9], args[10]\n",
    "#    x0Mirror, y0Mirror, z0Mirror, Radius = args[0][0], args[0][1], args[0][2], args[0][3]\n",
    "#    xD, yD, zD   = args[0][4], args[0][5], args[0][6], args[0][7]\n",
    "#    xE, yE, zE = args[0][8], args[0][9], args[0][10]\n",
    "    return (xM-x0Mirror)**2 + (yM-y0Mirror)**2 + (zM-z0Mirror)**2 - Radius**2"
   ]
  },
  {
   "attachments": {},
   "cell_type": "markdown",
   "metadata": {},
   "source": [
    "### 反射点を変数として検出点と反射光との距離を求める関数"
   ]
  },
  {
   "cell_type": "code",
   "execution_count": 124,
   "metadata": {},
   "outputs": [],
   "source": [
    "def distance_f(x, *args):\n",
    "    xM, yM, zM = x[0], x[1], x[2]\n",
    "    x0Mirror, y0Mirror, z0Mirror, Radius = args[0], args[1], args[2], args[3]\n",
    "    xD, yD, zD   = args[4], args[5], args[6], args[7]\n",
    "    xE, yE, zE = args[8], args[9], args[10]\n",
    "#    x0Mirror, y0Mirror, z0Mirror, Radius = args[0][0], args[0][1], args[0][2], args[0][3]\n",
    "#    xD, yD, zD   = args[0][4], args[0][5], args[0][6], args[0][7]\n",
    "#    xE, yE, zE = args[0][8], args[0][9], args[0][10]\n",
    "\n",
    "    rD = np.array([xD-xM, yD-yM, zD-zM])\n",
    "    d_ref = direction_ref(xM, yM, zM, xE, yE, zE, x0Mirror, y0Mirror, z0Mirror, Radius)\n",
    "    return np.linalg.norm(np.cross(rD, d_ref), ord=2)/np.linalg.norm(d_ref, ord=2)"
   ]
  },
  {
   "cell_type": "code",
   "execution_count": 126,
   "metadata": {},
   "outputs": [],
   "source": [
    "def distance_f2(x, xD, yD, zD, xE, yE, zE, x0Mirror, y0Mirror, z0Mirror, Radius):\n",
    "    xM, yM, zM = x[0], x[1], x[2]\n",
    "#    x0Mirror, y0Mirror, z0Mirror, Radius = args[0], args[1], args[2], args[3]\n",
    "#    xD, yD, zD   = args[4], args[5], args[6], args[7]\n",
    "#    xE, yE, zE = args[8], args[9], args[10]\n",
    "#    x0Mirror, y0Mirror, z0Mirror, Radius = args[0][0], args[0][1], args[0][2], args[0][3]\n",
    "#    xD, yD, zD   = args[0][4], args[0][5], args[0][6], args[0][7]\n",
    "#    xE, yE, zE = args[0][8], args[0][9], args[0][10]\n",
    "\n",
    "    rD = np.array([xD-xM, yD-yM, zD-zM])\n",
    "    d_ref = direction_ref(xM, yM, zM, xE, yE, zE, x0Mirror, y0Mirror, z0Mirror, Radius)\n",
    "    return np.linalg.norm(np.cross(rD, d_ref), ord=2)/np.linalg.norm(d_ref, ord=2)"
   ]
  },
  {
   "attachments": {},
   "cell_type": "markdown",
   "metadata": {},
   "source": [
    "### 初期位置とインプットパラメータ"
   ]
  },
  {
   "cell_type": "code",
   "execution_count": 136,
   "metadata": {},
   "outputs": [],
   "source": [
    "x0 = np.array([101.4849400268, 9.9072166291, 0.0])\n",
    "args = (1.5191739036 ,17.3645296907, 0.0, 100.0, 52.5871498729, 27.465745449, 0.0, 5.0, 0.0, 0.0) # 球面中心(x,y,z), 半径, 検出点(x,y,z), 放出点(x,y,z) \n",
    "args2 = (52.5871498729, 27.465745449, 0.0, 5.0, 0.0, 0.0, 1.5191739036 ,17.3645296907, 0.0, 100.0) # 検出点(x,y,z), 放出点(x,y,z), 球面中心(x,y,z), 半径\n",
    "args3 = (52.525161348, 6.275469636, 0.0, 5.0, 0.0, 0.0, 1.5191739036 ,17.3645296907, 0.0, 100.0) # 検出点(x,y,z), 放出点(x,y,z), 球面中心(x,y,z), 半径"
   ]
  },
  {
   "attachments": {},
   "cell_type": "markdown",
   "metadata": {},
   "source": [
    "### 拘束条件"
   ]
  },
  {
   "cell_type": "code",
   "execution_count": null,
   "metadata": {},
   "outputs": [],
   "source": [
    "cons = {\"type\":\"eq\", \"fun\":equality_constranint} \n",
    "cons2 = {\"type\":\"eq\", \"fun\":equality_constranint2, \"args\":args2} \n",
    "cons3 = {\"type\":\"eq\", \"fun\":equality_constranint2, \"args\":args3} "
   ]
  },
  {
   "attachments": {},
   "cell_type": "markdown",
   "metadata": {},
   "source": [
    "### 距離を最小化"
   ]
  },
  {
   "cell_type": "code",
   "execution_count": 137,
   "metadata": {},
   "outputs": [],
   "source": [
    "#result = minimize(fun=distance_f, x0=x0, args=args, method=\"SLSQP\", constraints=cons)\n",
    "#result = minimize(fun=distance_f2, x0=x0, args=args2, method=\"SLSQP\", constraints=cons2)\n",
    "result = minimize(fun=distance_f2, x0=x0, args=args3, method=\"SLSQP\", constraints=cons3)"
   ]
  },
  {
   "cell_type": "code",
   "execution_count": 138,
   "metadata": {},
   "outputs": [
    {
     "data": {
      "text/plain": [
       "100.00000000001616"
      ]
     },
     "execution_count": 138,
     "metadata": {},
     "output_type": "execute_result"
    }
   ],
   "source": [
    "r0Mirror = np.array([1.5191739036 ,17.3645296907, 0.0])\n",
    "np.linalg.norm(result.x-r0Mirror, ord=2)"
   ]
  },
  {
   "cell_type": "code",
   "execution_count": 139,
   "metadata": {},
   "outputs": [
    {
     "data": {
      "text/plain": [
       "     fun: 7.218607919359754e-07\n",
       "     jac: array([-0.12901893, -0.23043663, -0.49209559])\n",
       " message: 'Optimization terminated successfully'\n",
       "    nfev: 103\n",
       "     nit: 22\n",
       "    njev: 22\n",
       "  status: 0\n",
       " success: True\n",
       "       x: array([ 9.48272339e+01, -1.86022042e+01, -1.25230961e-06])"
      ]
     },
     "execution_count": 139,
     "metadata": {},
     "output_type": "execute_result"
    }
   ],
   "source": [
    "result"
   ]
  },
  {
   "cell_type": "code",
   "execution_count": null,
   "metadata": {},
   "outputs": [],
   "source": []
  },
  {
   "cell_type": "code",
   "execution_count": null,
   "metadata": {},
   "outputs": [],
   "source": []
  },
  {
   "cell_type": "code",
   "execution_count": null,
   "metadata": {},
   "outputs": [],
   "source": []
  },
  {
   "cell_type": "code",
   "execution_count": null,
   "metadata": {},
   "outputs": [],
   "source": []
  },
  {
   "cell_type": "code",
   "execution_count": null,
   "metadata": {},
   "outputs": [],
   "source": []
  },
  {
   "cell_type": "code",
   "execution_count": null,
   "metadata": {},
   "outputs": [],
   "source": []
  },
  {
   "cell_type": "code",
   "execution_count": null,
   "metadata": {},
   "outputs": [],
   "source": []
  },
  {
   "cell_type": "code",
   "execution_count": null,
   "metadata": {},
   "outputs": [],
   "source": []
  },
  {
   "cell_type": "code",
   "execution_count": null,
   "metadata": {},
   "outputs": [],
   "source": []
  },
  {
   "cell_type": "code",
   "execution_count": null,
   "metadata": {},
   "outputs": [],
   "source": []
  },
  {
   "cell_type": "code",
   "execution_count": null,
   "metadata": {},
   "outputs": [],
   "source": []
  },
  {
   "cell_type": "code",
   "execution_count": null,
   "metadata": {},
   "outputs": [],
   "source": []
  }
 ],
 "metadata": {
  "kernelspec": {
   "display_name": "base",
   "language": "python",
   "name": "python3"
  },
  "language_info": {
   "codemirror_mode": {
    "name": "ipython",
    "version": 3
   },
   "file_extension": ".py",
   "mimetype": "text/x-python",
   "name": "python",
   "nbconvert_exporter": "python",
   "pygments_lexer": "ipython3",
   "version": "3.9.15"
  },
  "vscode": {
   "interpreter": {
    "hash": "0c8c66acadcfa55b2551032ffc3f59ef3b5eed5925cd4c35ad836abb3b81b1b5"
   }
  }
 },
 "nbformat": 4,
 "nbformat_minor": 4
}
